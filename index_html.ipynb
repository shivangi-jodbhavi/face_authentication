{
  "nbformat": 4,
  "nbformat_minor": 0,
  "metadata": {
    "colab": {
      "name": "index.html",
      "provenance": [],
      "authorship_tag": "ABX9TyOnDgVqQ6d8ZQf5nnKDq/wr",
      "include_colab_link": true
    },
    "kernelspec": {
      "name": "python3",
      "display_name": "Python 3"
    },
    "language_info": {
      "name": "python"
    }
  },
  "cells": [
    {
      "cell_type": "markdown",
      "metadata": {
        "id": "view-in-github",
        "colab_type": "text"
      },
      "source": [
        "<a href=\"https://colab.research.google.com/github/shivangi-jodbhavi/face_authentication/blob/master/index_html.ipynb\" target=\"_parent\"><img src=\"https://colab.research.google.com/assets/colab-badge.svg\" alt=\"Open In Colab\"/></a>"
      ]
    },
    {
      "cell_type": "code",
      "execution_count": null,
      "metadata": {
        "id": "soUq4vsb6126"
      },
      "outputs": [],
      "source": [
        "\n",
        "<!DOCTYPE html>\n",
        "<html>\n",
        "<head>\n",
        "    <meta charset=\"utf-8\">\n",
        "    <meta http-equiv=\"x-ua-compatible\" content=\"ie=edge\">\n",
        "    <title>Face Authentication</title>\n",
        "    <meta name=\"description\" content=\"\">\n",
        "    <meta name=\"viewport\" content=\"width=device-width, initial-scale=1\">\n",
        "    <link rel='shortcut icon' type='image/x-icon' href=\"{{url_for('static', filename='favicon.ico')}}\" />\n",
        "    <link rel=\"stylesheet\" href=\"https://stackpath.bootstrapcdn.com/bootstrap/4.1.1/css/bootstrap.min.css\"\n",
        "        integrity=\"sha384-WskhaSGFgHYWDcbwN70/dfYBj47jz9qbsMId/iRN3ewGhXQFZCSftd1LZCfmhktB\" crossorigin=\"anonymous\">\n",
        "    <link rel=\"stylesheet\" type=\"text/css\" href=\"https://cdn.datatables.net/v/dt/dt-1.10.18/datatables.min.css\" />\n",
        "    <script src=\"https://ajax.googleapis.com/ajax/libs/jquery/3.3.1/jquery.min.js\"></script>\n",
        "    <script type=\"text/javascript\" src=\"{{url_for('static', filename='js/app_v2.js')}}\"></script>\n",
        "</head>\n",
        "\n",
        "\n",
        "  <body>\n",
        "    <nav class=\"navbar navbar-expand-lg sticky-top navbar-dark bg-dark\">\n",
        "        <a class=\"navbar-brand\" href=\"/\">Face Authentication</a>\n",
        "    </nav>\n",
        "\n",
        "\n",
        "    <div class=\"container-fluid col-sm-12 col-lg-6\">\n",
        "        <h3 class=\"text-center mt-5\">Live Stream</h3>\n",
        "        <div class=\"card text-center\">\n",
        "            <div class=\"card-body\">\n",
        "                <img src=\"{{ url_for('video_feed') }}\" class=\"col-sm-12 col-md-12 col-lg-12\">\n",
        "            </div>\n",
        "        </div>\n",
        "    </div>\n",
        "\n",
        "    <script src=\"https://ajax.googleapis.com/ajax/libs/jquery/3.3.1/jquery.min.js\"></script>\n",
        "    <script src=\"https://cdnjs.cloudflare.com/ajax/libs/popper.js/1.12.3/umd/popper.min.js\"\n",
        "    integrity=\"sha384-vFJXuSJphROIrBnz7yo7oB41mKfc8JzQZiCq4NCceLEaO4IHwicKwpJf9c9IpFgh\"\n",
        "    crossorigin=\"anonymous\"></script>\n",
        "    <script src=\"https://maxcdn.bootstrapcdn.com/bootstrap/4.0.0-beta.2/js/bootstrap.min.js\"\n",
        "    integrity=\"sha384-alpBpkh1PFOepccYVYDB4do5UnbKysX5WZXm3XxPqe5iKTfUKjNkCk9SaVuEZflJ\"\n",
        "    crossorigin=\"anonymous\"></script>\n",
        "  </body>\n",
        "\n",
        "\n",
        "</html>\n",
        "\n"
      ]
    }
  ]
}